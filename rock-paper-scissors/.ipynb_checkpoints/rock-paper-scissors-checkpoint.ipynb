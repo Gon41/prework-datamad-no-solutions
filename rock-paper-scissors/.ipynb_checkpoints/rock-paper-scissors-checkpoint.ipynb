{
 "cells": [
  {
   "cell_type": "markdown",
   "metadata": {},
   "source": [
    "# Rock Paper Scissors\n",
    "\n",
    "Let's play the famous game against our computer.\n",
    "\n",
    "https://en.wikipedia.org/wiki/Rock%E2%80%93paper%E2%80%93scissors\n",
    "\n",
    "The use of functions is recommended\n",
    "\n",
    "## Goals\n",
    "1. Use of loop\n",
    "2. Data capture by console\n",
    "3. Use if-elif-else\n",
    "4. Use of try-except\n",
    "5. Definition of functions. Modular programming\n",
    "6. Logical operators.\n",
    "7. Print\n",
    "8. Import modules"
   ]
  },
  {
   "cell_type": "code",
   "execution_count": 4,
   "metadata": {
    "scrolled": true
   },
   "outputs": [
    {
     "name": "stdout",
     "output_type": "stream",
     "text": [
      "Vamos a jugar a piedra, papel o tijera. \n"
     ]
    },
    {
     "name": "stdin",
     "output_type": "stream",
     "text": [
      "Introduzca por favor un número (0- Piedra, 1- Papel o 2- Tijeras) 1\n"
     ]
    },
    {
     "name": "stdout",
     "output_type": "stream",
     "text": [
      "Has elegido:  1 Papel\n",
      "La máquina ha elegido:  2 Tijeras\n",
      "Gana la máquina\n"
     ]
    }
   ],
   "source": [
    "# Import the choice function of the random module\n",
    "# https://stackoverflow.com/questions/306400/how-to-randomly-select-an-item-from-a-list\n",
    "\n",
    "import random\n",
    "\n",
    "\n",
    "# Assign to a list the 3 possible options: 'stone', 'paper' or 'scissors'.\n",
    "\n",
    "list = [\"stone\",\"paper\",\"scissors\"]\n",
    "\n",
    "# Assign a variable to the maximum number of games: 1, 3, 5, etc ...\n",
    "\n",
    "game = 5\n",
    "\n",
    "# Assign a variable to the number of games a player must win to win.\n",
    "# Preferably the value will be based on the number of maximum games\n",
    "\n",
    "win = 3\n",
    "\n",
    "# Define a function that randomly returns one of the 3 options.\n",
    "# This will correspond to the play of the machine. Totally random.\n",
    "\n",
    "def play_machine():\n",
    "    \n",
    "    machine = random.randrange(0,3)\n",
    "\n",
    "    if machine == 0:\n",
    "        print(\"La máquina ha elegido: \", machine, \"Piedra\")\n",
    "\n",
    "\n",
    "    elif machine == 1:\n",
    "        print(\"La máquina ha elegido: \", machine, \"Papel\")\n",
    "\n",
    "\n",
    "    else:\n",
    "        print(\"La máquina ha elegido: \", machine, \"Tijeras\")\n",
    "    \n",
    "        \n",
    "        \n",
    "# Define a function that asks your choice: 'stone', 'paper' or 'scissors'\n",
    "# you should only allow one of the 3 options. This is defensive programming.\n",
    "# If it is not stone, paper or scissors keep asking until it is.\n",
    "\n",
    "def play_player():\n",
    "    \n",
    "    y = 0\n",
    "\n",
    "    player = int(input(\"Introduzca por favor un número (0- Piedra, 1- Papel o 2- Tijeras)\"))\n",
    "\n",
    "\n",
    "    while y == 0:\n",
    "\n",
    "        if player == 0:\n",
    "            print(\"Has elegido: \", player, \"Piedra\")\n",
    "            y += 1\n",
    "\n",
    "        elif player == 1:\n",
    "            print(\"Has elegido: \", player, \"Papel\")\n",
    "            y += 1\n",
    "\n",
    "        elif player == 2:\n",
    "            print(\"Has elegido: \", player, \"Tijeras\")\n",
    "            y += 1\n",
    "\n",
    "        else:\n",
    "            player = int(input(\"Número incorrecto. Por favor, introduzca un número de la lista (0- Piedra, 1- Papel o 2- Tijeras)\"))\n",
    "\n",
    "            \n",
    "# Define a function that resolves a combat.\n",
    "# Returns 0 if there is a tie, 1 if the machine wins, 2 if the human player wins\n",
    " \n",
    "def juego():\n",
    "    \n",
    "    # Activo opción del jugador\n",
    "    \n",
    "    print(\"Vamos a jugar a piedra, papel o tijera. \")\n",
    "    \n",
    "    y = 0\n",
    "\n",
    "    player = int(input(\"Introduzca por favor un número (0- Piedra, 1- Papel o 2- Tijeras)\"))\n",
    "\n",
    "\n",
    "    while y == 0:\n",
    "\n",
    "        if player == 0:\n",
    "            print(\"Has elegido: \", player, \"Piedra\")\n",
    "            y += 1\n",
    "\n",
    "        elif player == 1:\n",
    "            print(\"Has elegido: \", player, \"Papel\")\n",
    "            y += 1\n",
    "\n",
    "        elif player == 2:\n",
    "            print(\"Has elegido: \", player, \"Tijeras\")\n",
    "            y += 1\n",
    "\n",
    "        else:\n",
    "            player = int(input(\"Número incorrecto. Por favor, introduzca un número de la lista (0- Piedra, 1- Papel o 2- Tijeras)\"))\n",
    "\n",
    "    # Activo opción de la máquina\n",
    "    \n",
    "    machine = random.randrange(0,3)\n",
    "\n",
    "    if machine == 0:\n",
    "        print(\"La máquina ha elegido: \", machine, \"Piedra\")\n",
    "\n",
    "\n",
    "    elif machine == 1:\n",
    "        print(\"La máquina ha elegido: \", machine, \"Papel\")\n",
    "\n",
    "\n",
    "    else:\n",
    "        print(\"La máquina ha elegido: \", machine, \"Tijeras\")\n",
    "        \n",
    "     # Activo resultados\n",
    "    \n",
    "    if player == 0 and machine == 0:\n",
    "        print(\"Empate\")\n",
    "    \n",
    "    if player == 0 and machine == 1:\n",
    "        print(\"Gana la máquina\")\n",
    "        \n",
    "    if player == 0 and machine == 2:\n",
    "        print(\"Gana el jugador\")\n",
    "    \n",
    "    if player == 1 and machine == 0:\n",
    "        print(\"Gana el jugador\")\n",
    "        \n",
    "    if player == 1 and machine == 1:\n",
    "        print(\"Empate\")\n",
    "    \n",
    "    if player == 1 and machine == 2:\n",
    "        print(\"Gana la máquina\")\n",
    "        \n",
    "    if player == 2 and machine == 0:\n",
    "        print(\"Gana la máquina\")\n",
    "    \n",
    "    if player == 2 and machine == 1:\n",
    "        print(\"Gana el jugador\")\n",
    "        \n",
    "    if player == 2 and machine == 2:\n",
    "        print(\"Empate\")\n",
    "        \n",
    "        \n",
    "        \n",
    "        \n",
    "        \n",
    "        \n",
    "juego()"
   ]
  },
  {
   "cell_type": "code",
   "execution_count": 7,
   "metadata": {},
   "outputs": [],
   "source": [
    "\n",
    "# Define a function that shows the choice of each player and the state of the game\n",
    "# This function should be used every time accumulated points are updated\n",
    "\n",
    "def actualizacion():\n",
    "    \n",
    "    player_wins = 0\n",
    "    machine_wins = 0\n",
    "    rounds = 0\n",
    "    empate= 0\n",
    "    \n",
    "    while True:\n",
    "        \n",
    "        if player_wins >= 5 or machine_wins >= 5:\n",
    "            break\n",
    "            \n",
    "        player = int(input(\"Introduzca por favor un número (0- Piedra, 1- Papel o 2- Tijeras)\"))\n",
    "        machine = random.randrange(0,3)\n",
    "        print(machine)\n",
    "        if player == 0 and machine == 0:\n",
    "            empate += 1\n",
    "            rounds += 1\n",
    "            \n",
    "            \n",
    "        if player == 0 and machine == 1:\n",
    "            print(\"Gana la máquina\")\n",
    "            machine_wins += 1\n",
    "            rounds += 1\n",
    "            \n",
    "\n",
    "        if player == 0 and machine == 2:\n",
    "            print(\"Gana el jugador\")\n",
    "            player_wins += 1\n",
    "            rounds += 1\n",
    "\n",
    "        if player == 1 and machine == 0:\n",
    "            print(\"Gana el jugador\")\n",
    "            player_wins += 1\n",
    "            rounds += 1\n",
    "\n",
    "        if player == 1 and machine == 1:\n",
    "            empate += 1\n",
    "            rounds += 1\n",
    "            \n",
    "            \n",
    "        if player == 1 and machine == 2:\n",
    "            print(\"Gana la máquina\")\n",
    "            machine_wins += 1\n",
    "            rounds += 1\n",
    "\n",
    "        if player == 2 and machine == 0:\n",
    "            print(\"Gana la máquina\")\n",
    "            machine_wins += 1\n",
    "            rounds += 1\n",
    "\n",
    "        if player == 2 and machine == 1:\n",
    "            print(\"Gana el jugador\")\n",
    "            player_wins += 1\n",
    "            rounds += 1\n",
    "\n",
    "        if player == 2 and machine == 2:\n",
    "            empate += 1\n",
    "            rounds += 1\n",
    "        \n",
    "        print(\"El jugador ha ganado \", player_wins, \"veces\")\n",
    "        print(\"La máquina ha ganado \", machine_wins, \"veces\")\n",
    "        print(\"Ha habido \", empate, \"empates\")\n",
    "        print(\"Ha habido \", machine_wins, \"rondas\")\n",
    "    \n",
    "# ME SALE EL BUBLE INFINITO. LLAMAR A LA FUNCION (actualizacion())"
   ]
  },
  {
   "cell_type": "code",
   "execution_count": 8,
   "metadata": {},
   "outputs": [
    {
     "name": "stdin",
     "output_type": "stream",
     "text": [
      "Introduzca por favor un número (0- Piedra, 1- Papel o 2- Tijeras) 1\n"
     ]
    },
    {
     "name": "stdout",
     "output_type": "stream",
     "text": [
      "2\n",
      "Gana la máquina\n",
      "El jugador ha ganado  0 veces\n",
      "La máquina ha ganado  1 veces\n",
      "Ha habido  0 empates\n",
      "Ha habido  1 rondas\n"
     ]
    },
    {
     "name": "stdin",
     "output_type": "stream",
     "text": [
      "Introduzca por favor un número (0- Piedra, 1- Papel o 2- Tijeras) 2\n"
     ]
    },
    {
     "name": "stdout",
     "output_type": "stream",
     "text": [
      "1\n",
      "Gana el jugador\n",
      "El jugador ha ganado  1 veces\n",
      "La máquina ha ganado  1 veces\n",
      "Ha habido  0 empates\n",
      "Ha habido  1 rondas\n"
     ]
    },
    {
     "name": "stdin",
     "output_type": "stream",
     "text": [
      "Introduzca por favor un número (0- Piedra, 1- Papel o 2- Tijeras) 1\n"
     ]
    },
    {
     "name": "stdout",
     "output_type": "stream",
     "text": [
      "2\n",
      "Gana la máquina\n",
      "El jugador ha ganado  1 veces\n",
      "La máquina ha ganado  2 veces\n",
      "Ha habido  0 empates\n",
      "Ha habido  2 rondas\n"
     ]
    },
    {
     "name": "stdin",
     "output_type": "stream",
     "text": [
      "Introduzca por favor un número (0- Piedra, 1- Papel o 2- Tijeras) 1\n"
     ]
    },
    {
     "name": "stdout",
     "output_type": "stream",
     "text": [
      "1\n",
      "El jugador ha ganado  1 veces\n",
      "La máquina ha ganado  2 veces\n",
      "Ha habido  1 empates\n",
      "Ha habido  2 rondas\n"
     ]
    },
    {
     "name": "stdin",
     "output_type": "stream",
     "text": [
      "Introduzca por favor un número (0- Piedra, 1- Papel o 2- Tijeras) 2\n"
     ]
    },
    {
     "name": "stdout",
     "output_type": "stream",
     "text": [
      "1\n",
      "Gana el jugador\n",
      "El jugador ha ganado  2 veces\n",
      "La máquina ha ganado  2 veces\n",
      "Ha habido  1 empates\n",
      "Ha habido  2 rondas\n"
     ]
    },
    {
     "name": "stdin",
     "output_type": "stream",
     "text": [
      "Introduzca por favor un número (0- Piedra, 1- Papel o 2- Tijeras) 1\n"
     ]
    },
    {
     "name": "stdout",
     "output_type": "stream",
     "text": [
      "0\n",
      "Gana el jugador\n",
      "El jugador ha ganado  3 veces\n",
      "La máquina ha ganado  2 veces\n",
      "Ha habido  1 empates\n",
      "Ha habido  2 rondas\n"
     ]
    },
    {
     "name": "stdin",
     "output_type": "stream",
     "text": [
      "Introduzca por favor un número (0- Piedra, 1- Papel o 2- Tijeras) 2\n"
     ]
    },
    {
     "name": "stdout",
     "output_type": "stream",
     "text": [
      "2\n",
      "El jugador ha ganado  3 veces\n",
      "La máquina ha ganado  2 veces\n",
      "Ha habido  2 empates\n",
      "Ha habido  2 rondas\n"
     ]
    },
    {
     "name": "stdin",
     "output_type": "stream",
     "text": [
      "Introduzca por favor un número (0- Piedra, 1- Papel o 2- Tijeras) 1\n"
     ]
    },
    {
     "name": "stdout",
     "output_type": "stream",
     "text": [
      "2\n",
      "Gana la máquina\n",
      "El jugador ha ganado  3 veces\n",
      "La máquina ha ganado  3 veces\n",
      "Ha habido  2 empates\n",
      "Ha habido  3 rondas\n"
     ]
    },
    {
     "name": "stdin",
     "output_type": "stream",
     "text": [
      "Introduzca por favor un número (0- Piedra, 1- Papel o 2- Tijeras) 2\n"
     ]
    },
    {
     "name": "stdout",
     "output_type": "stream",
     "text": [
      "0\n",
      "Gana la máquina\n",
      "El jugador ha ganado  3 veces\n",
      "La máquina ha ganado  4 veces\n",
      "Ha habido  2 empates\n",
      "Ha habido  4 rondas\n"
     ]
    },
    {
     "name": "stdin",
     "output_type": "stream",
     "text": [
      "Introduzca por favor un número (0- Piedra, 1- Papel o 2- Tijeras) 1\n"
     ]
    },
    {
     "name": "stdout",
     "output_type": "stream",
     "text": [
      "0\n",
      "Gana el jugador\n",
      "El jugador ha ganado  4 veces\n",
      "La máquina ha ganado  4 veces\n",
      "Ha habido  2 empates\n",
      "Ha habido  4 rondas\n"
     ]
    },
    {
     "name": "stdin",
     "output_type": "stream",
     "text": [
      "Introduzca por favor un número (0- Piedra, 1- Papel o 2- Tijeras) 2\n"
     ]
    },
    {
     "name": "stdout",
     "output_type": "stream",
     "text": [
      "2\n",
      "El jugador ha ganado  4 veces\n",
      "La máquina ha ganado  4 veces\n",
      "Ha habido  3 empates\n",
      "Ha habido  4 rondas\n"
     ]
    },
    {
     "name": "stdin",
     "output_type": "stream",
     "text": [
      "Introduzca por favor un número (0- Piedra, 1- Papel o 2- Tijeras) 1\n"
     ]
    },
    {
     "name": "stdout",
     "output_type": "stream",
     "text": [
      "1\n",
      "El jugador ha ganado  4 veces\n",
      "La máquina ha ganado  4 veces\n",
      "Ha habido  4 empates\n",
      "Ha habido  4 rondas\n"
     ]
    },
    {
     "name": "stdin",
     "output_type": "stream",
     "text": [
      "Introduzca por favor un número (0- Piedra, 1- Papel o 2- Tijeras) 1\n"
     ]
    },
    {
     "name": "stdout",
     "output_type": "stream",
     "text": [
      "1\n",
      "El jugador ha ganado  4 veces\n",
      "La máquina ha ganado  4 veces\n",
      "Ha habido  5 empates\n",
      "Ha habido  4 rondas\n"
     ]
    },
    {
     "name": "stdin",
     "output_type": "stream",
     "text": [
      "Introduzca por favor un número (0- Piedra, 1- Papel o 2- Tijeras) 1\n"
     ]
    },
    {
     "name": "stdout",
     "output_type": "stream",
     "text": [
      "0\n",
      "Gana el jugador\n",
      "El jugador ha ganado  5 veces\n",
      "La máquina ha ganado  4 veces\n",
      "Ha habido  5 empates\n",
      "Ha habido  4 rondas\n"
     ]
    }
   ],
   "source": [
    "actualizacion()"
   ]
  },
  {
   "cell_type": "code",
   "execution_count": null,
   "metadata": {},
   "outputs": [],
   "source": [
    "# Create two variables that accumulate the wins of each participant\n",
    "\n",
    "player_wins = 0\n",
    "machine_wins = 0\n",
    "\n",
    "# Create a loop that iterates while no player reaches the minimum of wins\n",
    "\n",
    "\n",
    "\n",
    "# necessary to win. Inside the loop solves the play of the\n",
    "# machine and ask the player's. Compare them and update the value of the variables\n",
    "# that accumulate the wins of each participant.\n",
    "\n",
    "    \n",
    "# Print by console the winner of the game based on who has more accumulated wins\n",
    "  "
   ]
  },
  {
   "cell_type": "markdown",
   "metadata": {},
   "source": [
    "**Expected output**: Depends on the inputs, you know how to play and what to expect. "
   ]
  },
  {
   "cell_type": "markdown",
   "metadata": {},
   "source": [
    "# Bonus: Stone, paper, scissors, lizard, spock\n",
    "\n",
    "Now the improvement begins.\n",
    "\n",
    "![](images/rpsls.jpg)\n",
    "\n",
    "\n",
    "http://www.samkass.com/theories/RPSSL.html\n",
    "\n",
    "You are asked to impliment some improvements with respect to the simple previous game. In addition, the number of games (which must be ODD) will be requested per console until a valid number is entered.\n",
    "\n",
    "Improvements:\n",
    "* 5 options: stone, paper, scissors, lizard, spock\n",
    "* The number of games is requested per console\n",
    "Tip: Reuse code that you already use. If you have programmed intelligently, the bonus are simple modifications to the original game."
   ]
  },
  {
   "cell_type": "code",
   "execution_count": null,
   "metadata": {},
   "outputs": [],
   "source": [
    "# Import the choice function of the random module\n",
    "\n",
    "\n",
    "# Define a function that asks for an odd number on the keyboard, until it is not valid\n",
    "# will keep asking\n",
    "\n",
    "\n",
    "# Assign a list of 5 possible options.\n",
    "\n",
    "\n",
    "# Assign a variable to the maximum number of games: 1, 3, 5, etc ...\n",
    "# This time the previously defined function is used\n",
    "\n",
    "\n",
    "# Assign a variable to the number of games a player must win to win.\n",
    "# Preferably the value will be based on the number of maximum games\n",
    "\n",
    "\n",
    "# Define a function that randomly returns one of the 5 options.\n",
    "# This will correspond to the play of the machine. Totally random.\n",
    "\n",
    "\n",
    "# Define a function that asks your choice between 5\n",
    "# you should only allow one of the 5 options. This is defensive programming.\n",
    "# If it is not valid, keep asking until it is valid.\n",
    "\n",
    "\n",
    "# Define a function that resolves a combat.\n",
    "# Returns 0 if there is a tie, 1 if the machine wins, 2 if the human player wins\n",
    "# Now there are more options\n",
    "\n",
    "\n",
    "    \n",
    "# Define a function that shows the choice of each player and the state of the game\n",
    "# This function should be used every time accumulated points are updated\n",
    "\n",
    "    \n",
    "# Create two variables that accumulate the wins of each participant\n",
    "\n",
    "\n",
    "# Create a loop that iterates while no player reaches the minimum of wins\n",
    "# necessary to win. Inside the loop solves the play of the\n",
    "# machine and ask the player's. Compare them and update the value of the variables\n",
    "# that accumulate the wins of each participant.\n",
    "    \n",
    "    \n",
    "# Print by console the winner of the game based on who has more accumulated wins\n",
    "\n"
   ]
  },
  {
   "cell_type": "markdown",
   "metadata": {},
   "source": [
    "**Expected output**: Depends on the inputs, you know how to play and what to expect. "
   ]
  },
  {
   "cell_type": "code",
   "execution_count": null,
   "metadata": {},
   "outputs": [],
   "source": []
  }
 ],
 "metadata": {
  "kernelspec": {
   "display_name": "Python 3",
   "language": "python",
   "name": "python3"
  },
  "language_info": {
   "codemirror_mode": {
    "name": "ipython",
    "version": 3
   },
   "file_extension": ".py",
   "mimetype": "text/x-python",
   "name": "python",
   "nbconvert_exporter": "python",
   "pygments_lexer": "ipython3",
   "version": "3.7.7"
  }
 },
 "nbformat": 4,
 "nbformat_minor": 4
}
